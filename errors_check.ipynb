{
 "cells": [
  {
   "cell_type": "code",
   "execution_count": 27,
   "id": "4a0ae988-94a8-400b-b5be-2bcf2b0cd3b9",
   "metadata": {},
   "outputs": [],
   "source": [
    "import torch\n",
    "import csv\n",
    "import pandas as pd\n",
    "from collections import Counter"
   ]
  },
  {
   "cell_type": "code",
   "execution_count": 28,
   "id": "6d0e95b1-2e67-47ca-9e8d-74f76c9250cc",
   "metadata": {},
   "outputs": [],
   "source": [
    "train_dataset_path = \"train_dataset.csv\"\n",
    "test_dataset_path = \"test_dataset.csv\"\n",
    "train_dataset_ERRORS_path = \"train_dataset_ERRORS.csv\"\n",
    "test_dataset_ERRORS_path = \"test_dataset_ERRORS.csv\""
   ]
  },
  {
   "cell_type": "code",
   "execution_count": 29,
   "id": "3a86b1d7-1fa7-4828-9ddd-34c498ba10c4",
   "metadata": {},
   "outputs": [],
   "source": [
    "def count_errors(file_path, awgn_row_name):\n",
    "    \n",
    "    data = pd.read_csv(file_path)\n",
    "    # print(data.head(3))\n",
    "    \n",
    "    if awgn_row_name not in data.columns or 'codeword' not in data.columns:\n",
    "        raise ValueError(f\"Kolumny {awgn_row_name} lub 'codeword' nie zostały znalezione w danych.\")\n",
    "\n",
    "    # Inicjalizacja listy do przechowywania liczby błędów oraz licznika dla rozkładu liczby błędów\n",
    "    error_counts = []\n",
    "    error_distribution = Counter()\n",
    "    max_errors = 0\n",
    "    \n",
    "    # Przetwarzanie wszystkich wierszy w pliku\n",
    "    for index, row in data.iterrows():\n",
    "        # Odczytaj wektor z kolumny 'awgn_sign_codeword_0'\n",
    "        awgn_vector = row[awgn_row_name]\n",
    "        \n",
    "        # Konwersja ciągu znaków na listę wartości liczbowych\n",
    "        if isinstance(awgn_vector, str):\n",
    "            awgn_vector = list(map(float, awgn_vector.strip('[]').split(',')))\n",
    "    \n",
    "        # Przekształć wektor według podanych reguł\n",
    "        transformed_vector = [0 if elem >= 0 else 1 for elem in awgn_vector]\n",
    "        \n",
    "        # Odczytaj oryginalny wektor z kolumny 'codeword'\n",
    "        original_vector = row['codeword']\n",
    "        if isinstance(original_vector, str):\n",
    "            original_vector = list(map(float, original_vector.strip('[]').split(',')))\n",
    "    \n",
    "        # Policz błędy\n",
    "        error_count = sum(1 for t, o in zip(transformed_vector, original_vector) if t != o)\n",
    "        error_counts.append(error_count)\n",
    "    \n",
    "        # Zaktualizuj maksymalną liczbę błędów\n",
    "        max_errors = max(max_errors, error_count)\n",
    "    \n",
    "        # Zaktualizuj licznik liczby błędów\n",
    "        error_distribution[error_count] += 1\n",
    "    \n",
    "    # Dodaj wyniki do DataFrame dla całego pliku\n",
    "    data['error_counts'] = error_counts\n",
    "    \n",
    "    print(f'PLIK: {file_path}')\n",
    "    # Wyświetl maksymalną liczbę błędów w całym pliku\n",
    "    print(f\"Maksymalna liczba błędów dla wiersza: {max_errors}\")\n",
    "    \n",
    "    # Wyświetl rozkład liczby błędów w całym pliku\n",
    "    print(\"\\nRozkład liczby błędów w pliku:\")\n",
    "    for error_count, occurrences in sorted(error_distribution.items()):\n",
    "        print(f\"Liczba błędów = {error_count}: wystąpiło {occurrences} razy\")"
   ]
  },
  {
   "cell_type": "code",
   "execution_count": 30,
   "id": "1e34b7aa-d6f8-4533-af83-0c08be38637a",
   "metadata": {},
   "outputs": [
    {
     "name": "stdout",
     "output_type": "stream",
     "text": [
      "PLIK: train_dataset.csv\n",
      "Maksymalna liczba błędów dla wiersza: 9\n",
      "\n",
      "Rozkład liczby błędów w pliku:\n",
      "Liczba błędów = 0: wystąpiło 29312 razy\n",
      "Liczba błędów = 1: wystąpiło 37730 razy\n",
      "Liczba błędów = 2: wystąpiło 22132 razy\n",
      "Liczba błędów = 3: wystąpiło 8350 razy\n",
      "Liczba błędów = 4: wystąpiło 2131 razy\n",
      "Liczba błędów = 5: wystąpiło 395 razy\n",
      "Liczba błędów = 6: wystąpiło 43 razy\n",
      "Liczba błędów = 7: wystąpiło 2 razy\n",
      "Liczba błędów = 9: wystąpiło 1 razy\n"
     ]
    }
   ],
   "source": [
    "count_errors(train_dataset_path, \"awgn_sign_codeword_0\")"
   ]
  },
  {
   "cell_type": "code",
   "execution_count": 31,
   "id": "4b3c6e01-f2c3-462e-adef-9c3aef8fba05",
   "metadata": {},
   "outputs": [
    {
     "name": "stdout",
     "output_type": "stream",
     "text": [
      "PLIK: test_dataset.csv\n",
      "Maksymalna liczba błędów dla wiersza: 7\n",
      "\n",
      "Rozkład liczby błędów w pliku:\n",
      "Liczba błędów = 0: wystąpiło 710228 razy\n",
      "Liczba błędów = 1: wystąpiło 201535 razy\n",
      "Liczba błędów = 2: wystąpiło 66391 razy\n",
      "Liczba błędów = 3: wystąpiło 17729 razy\n",
      "Liczba błędów = 4: wystąpiło 3916 razy\n",
      "Liczba błędów = 5: wystąpiło 566 razy\n",
      "Liczba błędów = 6: wystąpiło 78 razy\n",
      "Liczba błędów = 7: wystąpiło 5 razy\n"
     ]
    }
   ],
   "source": [
    "count_errors(test_dataset_path, \"awgn_sign_codeword_0-7\")"
   ]
  },
  {
   "cell_type": "code",
   "execution_count": 32,
   "id": "2bf8bf9a-1047-41cd-8cbc-d61cb4e7e505",
   "metadata": {},
   "outputs": [
    {
     "name": "stdout",
     "output_type": "stream",
     "text": [
      "PLIK: train_dataset_ERRORS.csv\n",
      "Maksymalna liczba błędów dla wiersza: 9\n",
      "\n",
      "Rozkład liczby błędów w pliku:\n",
      "Liczba błędów = 1: wystąpiło 37730 razy\n",
      "Liczba błędów = 2: wystąpiło 22132 razy\n",
      "Liczba błędów = 3: wystąpiło 8350 razy\n",
      "Liczba błędów = 4: wystąpiło 2131 razy\n",
      "Liczba błędów = 5: wystąpiło 395 razy\n",
      "Liczba błędów = 6: wystąpiło 43 razy\n",
      "Liczba błędów = 7: wystąpiło 2 razy\n",
      "Liczba błędów = 9: wystąpiło 1 razy\n"
     ]
    }
   ],
   "source": [
    "count_errors(train_dataset_ERRORS_path, \"awgn_sign_codeword_0\")"
   ]
  },
  {
   "cell_type": "code",
   "execution_count": 33,
   "id": "bd46d00a-5b57-4e8b-a411-04c45f121163",
   "metadata": {},
   "outputs": [
    {
     "name": "stdout",
     "output_type": "stream",
     "text": [
      "PLIK: test_dataset_ERRORS.csv\n",
      "Maksymalna liczba błędów dla wiersza: 7\n",
      "\n",
      "Rozkład liczby błędów w pliku:\n",
      "Liczba błędów = 1: wystąpiło 201535 razy\n",
      "Liczba błędów = 2: wystąpiło 66391 razy\n",
      "Liczba błędów = 3: wystąpiło 17729 razy\n",
      "Liczba błędów = 4: wystąpiło 3916 razy\n",
      "Liczba błędów = 5: wystąpiło 566 razy\n",
      "Liczba błędów = 6: wystąpiło 78 razy\n",
      "Liczba błędów = 7: wystąpiło 5 razy\n"
     ]
    }
   ],
   "source": [
    "count_errors(test_dataset_ERRORS_path, \"awgn_sign_codeword_0-7\")"
   ]
  }
 ],
 "metadata": {
  "kernelspec": {
   "display_name": "Python 3 (ipykernel)",
   "language": "python",
   "name": "python3"
  },
  "language_info": {
   "codemirror_mode": {
    "name": "ipython",
    "version": 3
   },
   "file_extension": ".py",
   "mimetype": "text/x-python",
   "name": "python",
   "nbconvert_exporter": "python",
   "pygments_lexer": "ipython3",
   "version": "3.9.18"
  }
 },
 "nbformat": 4,
 "nbformat_minor": 5
}
