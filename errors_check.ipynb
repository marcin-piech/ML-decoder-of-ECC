{
 "cells": [
  {
   "cell_type": "code",
   "execution_count": 20,
   "id": "4a0ae988-94a8-400b-b5be-2bcf2b0cd3b9",
   "metadata": {},
   "outputs": [],
   "source": [
    "import torch\n",
    "import csv\n",
    "import pandas as pd\n",
    "from collections import Counter"
   ]
  },
  {
   "cell_type": "code",
   "execution_count": 21,
   "id": "6d0e95b1-2e67-47ca-9e8d-74f76c9250cc",
   "metadata": {},
   "outputs": [],
   "source": [
    "train_dataset_path = \"train_dataset.csv\"\n",
    "data = pd.read_csv(train_dataset_path)\n",
    "# print(data.head(3))"
   ]
  },
  {
   "cell_type": "code",
   "execution_count": 22,
   "id": "3a86b1d7-1fa7-4828-9ddd-34c498ba10c4",
   "metadata": {},
   "outputs": [
    {
     "name": "stdout",
     "output_type": "stream",
     "text": [
      "PLIK: \n",
      "Maksymalna liczba błędów w pliku: 7\n",
      "\n",
      "Rozkład liczby błędów w pliku:\n",
      "Liczba błędów = 0: wystąpiło 29187 razy\n",
      "Liczba błędów = 1: wystąpiło 37806 razy\n",
      "Liczba błędów = 2: wystąpiło 22307 razy\n",
      "Liczba błędów = 3: wystąpiło 8241 razy\n",
      "Liczba błędów = 4: wystąpiło 2081 razy\n",
      "Liczba błędów = 5: wystąpiło 408 razy\n",
      "Liczba błędów = 6: wystąpiło 58 razy\n",
      "Liczba błędów = 7: wystąpiło 8 razy\n"
     ]
    }
   ],
   "source": [
    "if 'awgn_sign_codeword_0' not in data.columns or 'codeword' not in data.columns:\n",
    "    raise ValueError(\"Kolumny 'awgn_sign_codeword_0' lub 'codeword' nie zostały znalezione w danych.\")\n",
    "\n",
    "# Inicjalizacja listy do przechowywania liczby błędów oraz licznika dla rozkładu liczby błędów\n",
    "error_counts = []\n",
    "error_distribution = Counter()\n",
    "max_errors = 0\n",
    "\n",
    "# Przetwarzanie wszystkich wierszy w pliku\n",
    "for index, row in data.iterrows():\n",
    "    # Odczytaj wektor z kolumny 'awgn_sign_codeword_0'\n",
    "    awgn_vector = row['awgn_sign_codeword_0']\n",
    "    \n",
    "    # Konwersja ciągu znaków na listę wartości liczbowych\n",
    "    if isinstance(awgn_vector, str):\n",
    "        awgn_vector = list(map(float, awgn_vector.strip('[]').split(',')))\n",
    "\n",
    "    # Przekształć wektor według podanych reguł\n",
    "    transformed_vector = [0 if elem >= 0 else 1 for elem in awgn_vector]\n",
    "    \n",
    "    # Odczytaj oryginalny wektor z kolumny 'codeword'\n",
    "    original_vector = row['codeword']\n",
    "    if isinstance(original_vector, str):\n",
    "        original_vector = list(map(float, original_vector.strip('[]').split(',')))\n",
    "\n",
    "    # Policz błędy\n",
    "    error_count = sum(1 for t, o in zip(transformed_vector, original_vector) if t != o)\n",
    "    error_counts.append(error_count)\n",
    "\n",
    "    # Zaktualizuj maksymalną liczbę błędów\n",
    "    max_errors = max(max_errors, error_count)\n",
    "\n",
    "    # Zaktualizuj licznik liczby błędów\n",
    "    error_distribution[error_count] += 1\n",
    "\n",
    "# Dodaj wyniki do DataFrame dla całego pliku\n",
    "data['error_counts'] = error_counts\n",
    "\n",
    "print(f'PLIK: ')\n",
    "# Wyświetl maksymalną liczbę błędów w całym pliku\n",
    "print(f\"Maksymalna liczba błędów w pliku: {max_errors}\")\n",
    "\n",
    "# Wyświetl rozkład liczby błędów w całym pliku\n",
    "print(\"\\nRozkład liczby błędów w pliku:\")\n",
    "for error_count, occurrences in sorted(error_distribution.items()):\n",
    "    print(f\"Liczba błędów = {error_count}: wystąpiło {occurrences} razy\")"
   ]
  },
  {
   "cell_type": "code",
   "execution_count": 23,
   "id": "4b3c6e01-f2c3-462e-adef-9c3aef8fba05",
   "metadata": {},
   "outputs": [],
   "source": [
    "test_dataset_path = \"test_dataset.csv\"\n",
    "data = pd.read_csv(test_dataset_path)\n",
    "# print(data.head(3))"
   ]
  },
  {
   "cell_type": "code",
   "execution_count": 24,
   "id": "8499ee5f-defb-4b2b-8a3e-f786f47ce45a",
   "metadata": {},
   "outputs": [
    {
     "name": "stdout",
     "output_type": "stream",
     "text": [
      "PLIK: \n",
      "Maksymalna liczba błędów w pliku: 7\n",
      "\n",
      "Rozkład liczby błędów w pliku:\n",
      "Liczba błędów = 0: wystąpiło 709720 razy\n",
      "Liczba błędów = 1: wystąpiło 201981 razy\n",
      "Liczba błędów = 2: wystąpiło 66249 razy\n",
      "Liczba błędów = 3: wystąpiło 17920 razy\n",
      "Liczba błędów = 4: wystąpiło 3809 razy\n",
      "Liczba błędów = 5: wystąpiło 671 razy\n",
      "Liczba błędów = 6: wystąpiło 86 razy\n",
      "Liczba błędów = 7: wystąpiło 12 razy\n"
     ]
    }
   ],
   "source": [
    "if 'awgn_sign_codeword_0-7' not in data.columns or 'codeword' not in data.columns:\n",
    "    raise ValueError(\"Kolumny 'awgn_sign_codeword_0-7' lub 'codeword' nie zostały znalezione w danych.\")\n",
    "\n",
    "# Inicjalizacja listy do przechowywania liczby błędów oraz licznika dla rozkładu liczby błędów\n",
    "error_counts = []\n",
    "error_distribution = Counter()\n",
    "max_errors = 0\n",
    "\n",
    "# Przetwarzanie wszystkich wierszy w pliku\n",
    "for index, row in data.iterrows():\n",
    "    # Odczytaj wektor z kolumny 'awgn_sign_codeword_0'\n",
    "    awgn_vector = row['awgn_sign_codeword_0-7']\n",
    "    \n",
    "    # Konwersja ciągu znaków na listę wartości liczbowych\n",
    "    if isinstance(awgn_vector, str):\n",
    "        awgn_vector = list(map(float, awgn_vector.strip('[]').split(',')))\n",
    "\n",
    "    # Przekształć wektor według podanych reguł\n",
    "    transformed_vector = [0 if elem >= 0 else 1 for elem in awgn_vector]\n",
    "    \n",
    "    # Odczytaj oryginalny wektor z kolumny 'codeword'\n",
    "    original_vector = row['codeword']\n",
    "    if isinstance(original_vector, str):\n",
    "        original_vector = list(map(float, original_vector.strip('[]').split(',')))\n",
    "\n",
    "    # Policz błędy\n",
    "    error_count = sum(1 for t, o in zip(transformed_vector, original_vector) if t != o)\n",
    "    error_counts.append(error_count)\n",
    "\n",
    "    # Zaktualizuj maksymalną liczbę błędów\n",
    "    max_errors = max(max_errors, error_count)\n",
    "\n",
    "    # Zaktualizuj licznik liczby błędów\n",
    "    error_distribution[error_count] += 1\n",
    "\n",
    "# Dodaj wyniki do DataFrame dla całego pliku\n",
    "data['error_counts'] = error_counts\n",
    "\n",
    "print(f'PLIK: ')\n",
    "# Wyświetl maksymalną liczbę błędów w całym pliku\n",
    "print(f\"Maksymalna liczba błędów w pliku: {max_errors}\")\n",
    "\n",
    "# Wyświetl rozkład liczby błędów w całym pliku\n",
    "print(\"\\nRozkład liczby błędów w pliku:\")\n",
    "for error_count, occurrences in sorted(error_distribution.items()):\n",
    "    print(f\"Liczba błędów = {error_count}: wystąpiło {occurrences} razy\")"
   ]
  }
 ],
 "metadata": {
  "kernelspec": {
   "display_name": "Python 3 (ipykernel)",
   "language": "python",
   "name": "python3"
  },
  "language_info": {
   "codemirror_mode": {
    "name": "ipython",
    "version": 3
   },
   "file_extension": ".py",
   "mimetype": "text/x-python",
   "name": "python",
   "nbconvert_exporter": "python",
   "pygments_lexer": "ipython3",
   "version": "3.9.18"
  }
 },
 "nbformat": 4,
 "nbformat_minor": 5
}
